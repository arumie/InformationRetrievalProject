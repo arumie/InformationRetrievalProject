{
 "cells": [
  {
   "cell_type": "code",
   "execution_count": 2,
   "metadata": {},
   "outputs": [
    {
     "ename": "SyntaxError",
     "evalue": "invalid syntax (<ipython-input-2-f193031d6245>, line 1)",
     "output_type": "error",
     "traceback": [
      "\u001b[1;36m  File \u001b[1;32m\"<ipython-input-2-f193031d6245>\"\u001b[1;36m, line \u001b[1;32m1\u001b[0m\n\u001b[1;33m    Mean average precision(MAP),Precision at K(P@K)andDiscounted cumulative gain(DCG)\u001b[0m\n\u001b[1;37m               ^\u001b[0m\n\u001b[1;31mSyntaxError\u001b[0m\u001b[1;31m:\u001b[0m invalid syntax\n"
     ]
    }
   ],
   "source": [
    "\n",
    "Mean average precision(MAP),Precision at K(P@K)andDiscounted cumulative gain(DCG) "
   ]
  },
  {
   "cell_type": "code",
   "execution_count": 5,
   "metadata": {},
   "outputs": [],
   "source": [
    "import numpy as np\n",
    "\n",
    "\n",
    "retrieved = query.results\n",
    "number_of_relevant = query.number_of_relevant\n",
    "\n",
    "\n",
    "def rel(k):\n",
    "    return retrieved[k] > 0\n",
    "\n",
    "def P(k):\n",
    "    k_retrieved = retrieved[0:k]\n",
    "    relevant_retrieved = (x for x in retrieved if x > 0)\n",
    "    return relevant_retrieved/(relevant_retrieved+len(retrieved))\n",
    "\n",
    "def AveP():\n",
    "    res = 0\n",
    "    for k in range(n):\n",
    "        res += np.dot(p(k),rel(k))\n",
    "    return res/number_of_relevant\n",
    "\n",
    "def MAP():\n",
    "    np.sum(AveP(queries))/len(queries)\n",
    "    "
   ]
  }
 ],
 "metadata": {
  "kernelspec": {
   "display_name": "Python 3",
   "language": "python",
   "name": "python3"
  },
  "language_info": {
   "codemirror_mode": {
    "name": "ipython",
    "version": 3
   },
   "file_extension": ".py",
   "mimetype": "text/x-python",
   "name": "python",
   "nbconvert_exporter": "python",
   "pygments_lexer": "ipython3",
   "version": "3.6.1"
  }
 },
 "nbformat": 4,
 "nbformat_minor": 2
}
