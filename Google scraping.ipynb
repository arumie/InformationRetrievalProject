{
 "cells": [
  {
   "cell_type": "markdown",
   "metadata": {},
   "source": [
    "# Google scraping"
   ]
  },
  {
   "cell_type": "markdown",
   "metadata": {},
   "source": [
    "The code retrieved the first 20 documents. Only DBpedia results are considered."
   ]
  },
  {
   "cell_type": "markdown",
   "metadata": {},
   "source": [
    "#### Get the list of queries"
   ]
  },
  {
   "cell_type": "code",
   "execution_count": 1,
   "metadata": {
    "collapsed": true
   },
   "outputs": [],
   "source": [
    "import codecs\n",
    "import json\n",
    "from googlesearch import search"
   ]
  },
  {
   "cell_type": "code",
   "execution_count": 2,
   "metadata": {
    "collapsed": true
   },
   "outputs": [],
   "source": [
    "with open('query_list.txt', 'r') as f:\n",
    "    text = f.read()\n",
    "queries = text.split(\"\\n\")\n",
    "queries = [(query.split('\\t')[0], query.split('\\t')[1]) for query in queries]"
   ]
  },
  {
   "cell_type": "markdown",
   "metadata": {},
   "source": [
    "#### Get a dictionary with queries and their list of document relevances"
   ]
  },
  {
   "cell_type": "code",
   "execution_count": 4,
   "metadata": {},
   "outputs": [],
   "source": [
    "with open('query_relevance.txt', 'r', encoding=\"utf8\") as f:\n",
    "    text = f.read()\n",
    "    \n",
    "text.split('\\n')[0].split('\\t')[0]\n",
    "\n",
    "query_dict = {}\n",
    "\n",
    "for query_doc in text.split('\\n'):\n",
    "    l = query_doc.split('\\t')    \n",
    "    if l[0] not in query_dict.keys():\n",
    "        query_dict[l[0]] = {l[2][9:-1]: l[-1]}\n",
    "    else:    \n",
    "        query_dict[l[0]][l[2][9:-1]] = l[-1]"
   ]
  },
  {
   "cell_type": "markdown",
   "metadata": {},
   "source": [
    "#### After the request, the results are saved in a dictionary"
   ]
  },
  {
   "cell_type": "code",
   "execution_count": 5,
   "metadata": {
    "collapsed": true
   },
   "outputs": [],
   "source": [
    "google_retrieval_dict = {}"
   ]
  },
  {
   "cell_type": "code",
   "execution_count": 6,
   "metadata": {},
   "outputs": [],
   "source": [
    "for curr_query in queries[0:10]:\n",
    "    results=[url.split('page/')[1] for url in search('site:dbpedia.org/page -site:dbpedia.org/page/category '+ curr_query[1], stop=20)]\n",
    "    google_retrieval_dict[curr_query[0]] = []\n",
    "    for doc_title in results:\n",
    "        if doc_title in query_dict[curr_query[0]].keys():\n",
    "            doc_rel = query_dict[curr_query[0]][doc_title] \n",
    "        else:\n",
    "            doc_rel = 0\n",
    "        google_retrieval_dict[curr_query[0]].append([doc_title,  doc_rel])\n",
    "    with codecs.open(\"google_retrieval_dict.txt\", \"w\", \"utf-8\") as file:\n",
    "        file.write(str(google_retrieval_dict))"
   ]
  },
  {
   "cell_type": "code",
   "execution_count": 7,
   "metadata": {},
   "outputs": [
    {
     "data": {
      "text/plain": [
       "{'INEX_LD-20120111': [['Platoon_(film)', '2'],\n",
       "  ['Oliver_Stone', 0],\n",
       "  ['Fandango_(1985_film)', 0],\n",
       "  ['Dogfight_(film)', 0],\n",
       "  ['The_Quiet_American_(2002_film)', 0],\n",
       "  ['Full_Metal_Jacket', '0'],\n",
       "  ['How_I_Won_the_War', 0],\n",
       "  ['The_Deer_Hunter', '2'],\n",
       "  ['Rescue_Dawn', 0],\n",
       "  ['James_Stewart', 0],\n",
       "  ['Taxi_Driver', 0],\n",
       "  ['List_of_Independent_Lens_films', 0],\n",
       "  ['Tomorrow_Never_Dies', 0],\n",
       "  ['Francis_Ford_Coppola', 0],\n",
       "  ['Brad_Pitt', 0],\n",
       "  ['Off_Limits', 0],\n",
       "  ['Rambo_(film_series)', 0],\n",
       "  ['John_Hoagland', 0],\n",
       "  ['Universal_Soldier_(1992_film)', 0],\n",
       "  ['Nicole_Kidman', 0]],\n",
       " 'INEX_LD-20120112': [['Konrad_Kellen', 0],\n",
       "  ['Opinion', '0'],\n",
       "  ['McGeorge_Bundy', 0],\n",
       "  ['Center_for_International_Policy', '1'],\n",
       "  ['Jeremiah_Denton', 0],\n",
       "  ['Oriana_Fallaci', 0],\n",
       "  ['Karma_(comics)', 0],\n",
       "  ['Noam_Chomsky', 0],\n",
       "  ['Operation_Arc_Light', '2'],\n",
       "  ['The_Invaders', 0],\n",
       "  ['Norman_Mailer', 0],\n",
       "  ['Lockheed_AC-130', 0],\n",
       "  ['Boeing_KC-135_Stratotanker', 0],\n",
       "  ['Mammalia', 0],\n",
       "  ['M40_recoilless_rifle', 0],\n",
       "  ['Quantum_Leap_(season_3)', 0],\n",
       "  ['List_of_Radiolab_episodes', 0],\n",
       "  ['History_of_the_United_States', 0],\n",
       "  ['List_of_Silent_Witness_episodes', 0],\n",
       "  ['List_of_Ghost_Adventures_episodes', 0]],\n",
       " 'INEX_LD-20120121': [['Nem_N%C6%B0%E1%BB%9Bng%CC%A3', 0],\n",
       "  ['Man_Finds_Food', 0],\n",
       "  ['Yan_Can_Cook', '0'],\n",
       "  ['Kuih', '0'],\n",
       "  ['Amazake', '0'],\n",
       "  ['Satay', 0],\n",
       "  ['Ching_bo_leung', 0],\n",
       "  ['Cashew', '0'],\n",
       "  ['Youtiao', 0],\n",
       "  ['Peanut_sauce', 0],\n",
       "  ['Nikuman', 0],\n",
       "  ['List_of_Hell_Girl_episodes', 0]],\n",
       " 'INEX_LD-20120122': [['Ching_bo_leung', 0],\n",
       "  ['T%E1%BA%BFt', 0],\n",
       "  ['Balut_(food)', '0'],\n",
       "  ['List_of_Chopped_episodes', 0]],\n",
       " 'INEX_LD-20120131': [['Tom_Rhodes', '0'],\n",
       "  ['Man_Finds_Food', 0],\n",
       "  ['List_of_Ghost_Adventures_episodes', 0],\n",
       "  ['List_of_Non-Summit_episodes', 0],\n",
       "  ['Indonesia', 0],\n",
       "  ['List_of_Ghost_Adventures_episodes', 0],\n",
       "  ['River_Monsters', 0],\n",
       "  ['List_of_Non-Summit_episodes_(2017)', 0],\n",
       "  ['List_of_Non-Summit_episodes', 0],\n",
       "  ['List_of_20th-century_outdoor_proponents_and_outdoor_educators', 0],\n",
       "  ['Dynastie_Tang', 0]],\n",
       " 'INEX_LD-20120132': [['Airports_Corporation_of_Vietnam', '1'],\n",
       "  ['Vietnam_Airlines', '1'],\n",
       "  ['Area_51', 0],\n",
       "  ['SkyTeam', '0'],\n",
       "  ['List_of_Silent_Witness_episodes', 0],\n",
       "  ['Singapore_Airlines', 0],\n",
       "  ['List_of_Non-Summit_episodes_(2017)', 0],\n",
       "  ['List_of_Non-Summit_episodes', 0],\n",
       "  ['The_Invaders', 0],\n",
       "  ['List_of_Magnum,_P.I._episodes', 0],\n",
       "  ['List_of_Malcolm_in_the_Middle_episodes', 0],\n",
       "  ['List_of_Non-Summit_episodes', 0],\n",
       "  ['The_Bill_(series_17)', 0],\n",
       "  ['Sydney', 0],\n",
       "  ['Air_France', 0],\n",
       "  ['Montreal', 0]],\n",
       " 'INEX_LD-20120211': [['All_fourths_tuning', '2'],\n",
       "  ['Open_D_tuning', '1'],\n",
       "  ['Copedent', 0],\n",
       "  ['Guitalin', 0],\n",
       "  ['Tronichord', 0],\n",
       "  ['Guitalele', 0],\n",
       "  ['Electric_guitar', 0],\n",
       "  ['Guitar', '0'],\n",
       "  ['Guitalele', 0],\n",
       "  ['Tremolo', 0],\n",
       "  ['Vildhjarta', 0],\n",
       "  ['Chapman_Stick', 0],\n",
       "  ['Death_metal', 0],\n",
       "  ['Death_metal', 0],\n",
       "  ['Otamatone', 0],\n",
       "  ['The_Quarrymen', 0],\n",
       "  ['Major_third', '0'],\n",
       "  ['Korg_Kaossilator', 0],\n",
       "  ['M%C3%BAsica_de_Neon_Genesis_Evangelion', 0],\n",
       "  ['Bluegrass_music', 0]],\n",
       " 'INEX_LD-20120212': [['Slash_chord', '0'],\n",
       "  ['Accompaniment', 0],\n",
       "  ['Open_D_tuning', '0'],\n",
       "  ['Death_metal', 0],\n",
       "  ['Lyle_Preslar', 0],\n",
       "  ['Vildhjarta', 0],\n",
       "  ['Funk', 0],\n",
       "  ['Copedent', 0],\n",
       "  ['Cardiacs', 0],\n",
       "  ['Funk', 0],\n",
       "  ['Death_metal', 0],\n",
       "  ['A-ha', 0],\n",
       "  ['Major_third', '0'],\n",
       "  ['Nu_metal', 0],\n",
       "  ['Enigmatic_scale', 0],\n",
       "  ['Love_of_My_Life_(Queen_song)', 0],\n",
       "  ['Music_of_Neon_Genesis_Evangelion', 0],\n",
       "  ['A-ha', 0],\n",
       "  ['NOFX', 0]],\n",
       " 'INEX_LD-20120221': [['Classical_guitar', '1'],\n",
       "  ['Roni_Benise', '1'],\n",
       "  ['Lester_DeVoe', '1'],\n",
       "  ['Music_of_Spain', '1'],\n",
       "  ['Guitare_classique', 0],\n",
       "  ['Armik', '1'],\n",
       "  ['Pedro_Javier_Gonz%C3%A1lez', 0],\n",
       "  ['Peter_Walker_(guitarist)', 0],\n",
       "  ['Guitar', '1'],\n",
       "  ['Toti_Soler', 0],\n",
       "  ['Pepe_Romero', '1'],\n",
       "  ['Frederick_Noad', '1'],\n",
       "  ['John_Williams_(guitarist)', 0],\n",
       "  ['John_McLaughlin_(musician)', 0],\n",
       "  ['Guitar', '1'],\n",
       "  ['Andrei_Krylov', '1'],\n",
       "  ['Gontiti', 0],\n",
       "  ['Rodrigo_y_Gabriela', 0],\n",
       "  ['Guitarra', 0],\n",
       "  ['Rock', 0]],\n",
       " 'INEX_LD-20120222': [['Classical_guitar', '0'],\n",
       "  ['Jacopo_Gianninoto', 0],\n",
       "  ['Yngwie_Malmsteen', 0],\n",
       "  ['John_Williams_(guitarist)', '1'],\n",
       "  ['Kazuhito_Yamashita', 0],\n",
       "  ['Music_of_Neon_Genesis_Evangelion', 0],\n",
       "  ['Guitare_classique', 0],\n",
       "  ['Adam_Fulara', 0],\n",
       "  ['Toti_Soler', 0],\n",
       "  ['Andr%C3%A9s_Segovia', 0],\n",
       "  ['Geeta_Novotny', 0],\n",
       "  ['Moog_synthesizer', 0],\n",
       "  ['Yngwie_Malmsteen', 0],\n",
       "  ['Guitare', 0],\n",
       "  ['Andr%C3%A9s_Segovia', 0],\n",
       "  ['Moog_synthesizer', 0],\n",
       "  ['Synthesizer', 0],\n",
       "  ['Julian_Bream', 0]]}"
      ]
     },
     "execution_count": 7,
     "metadata": {},
     "output_type": "execute_result"
    }
   ],
   "source": [
    "google_retrieval_dict"
   ]
  }
 ],
 "metadata": {
  "kernelspec": {
   "display_name": "Python 3",
   "language": "python",
   "name": "python3"
  },
  "language_info": {
   "codemirror_mode": {
    "name": "ipython",
    "version": 3
   },
   "file_extension": ".py",
   "mimetype": "text/x-python",
   "name": "python",
   "nbconvert_exporter": "python",
   "pygments_lexer": "ipython3",
   "version": "3.6.2"
  }
 },
 "nbformat": 4,
 "nbformat_minor": 2
}
