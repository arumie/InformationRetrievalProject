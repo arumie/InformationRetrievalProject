{
 "cells": [
  {
   "cell_type": "markdown",
   "metadata": {},
   "source": [
    "Scraping Google and take the last part of the URL (=name of the dbpedia page)"
   ]
  },
  {
   "cell_type": "code",
   "execution_count": 9,
   "metadata": {},
   "outputs": [],
   "source": [
    "from googlesearch import search\n",
    "list=[url.split('page/')[1] for url in search('site:dbpedia.org/page -site:dbpedia.org/page/category korean cuisine', stop=20)]"
   ]
  },
  {
   "cell_type": "code",
   "execution_count": 11,
   "metadata": {},
   "outputs": [
    {
     "data": {
      "text/plain": [
       "['Korean_cuisine',\n",
       " 'Cuisine',\n",
       " 'Korean_noodles',\n",
       " 'Bulgogi',\n",
       " 'Tteok',\n",
       " 'Ganjang',\n",
       " 'Saeujeot',\n",
       " 'Jjigae',\n",
       " 'Dongchimi',\n",
       " 'Meju',\n",
       " 'Turkish_cuisine',\n",
       " 'Hwajeon',\n",
       " 'Yakiniku',\n",
       " 'Myoga',\n",
       " 'Sundubu_jjigae',\n",
       " 'Banchan',\n",
       " 'Mandu_(dumpling)',\n",
       " 'Sikhae',\n",
       " 'Gomguk',\n",
       " 'Perilla_frutescens',\n",
       " 'Samgyeopsal']"
      ]
     },
     "execution_count": 11,
     "metadata": {},
     "output_type": "execute_result"
    }
   ],
   "source": [
    "list"
   ]
  }
 ],
 "metadata": {
  "kernelspec": {
   "display_name": "Python 3",
   "language": "python",
   "name": "python3"
  }
 },
 "nbformat": 4,
 "nbformat_minor": 2
}
