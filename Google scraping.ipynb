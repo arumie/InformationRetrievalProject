{
 "cells": [
  {
   "cell_type": "markdown",
   "metadata": {},
   "source": [
    "# Google scraping"
   ]
  },
  {
   "cell_type": "markdown",
   "metadata": {},
   "source": [
    "The code retrieved the first 20 documents. Only DBpedia results are considered."
   ]
  },
  {
   "cell_type": "markdown",
   "metadata": {},
   "source": [
    "#### Get the list of queries"
   ]
  },
  {
   "cell_type": "code",
   "execution_count": 1,
   "metadata": {
    "collapsed": true
   },
   "outputs": [],
   "source": [
    "import codecs\n",
    "import json\n",
    "import urllib.request\n",
    "from googlesearch import search"
   ]
  },
  {
   "cell_type": "code",
   "execution_count": 2,
   "metadata": {
    "collapsed": true
   },
   "outputs": [],
   "source": [
    "with open('query_list.txt', 'r') as f:\n",
    "    text = f.read()\n",
    "queries = text.split(\"\\n\")\n",
    "queries = [(query.split('\\t')[0], query.split('\\t')[1]) for query in queries]"
   ]
  },
  {
   "cell_type": "markdown",
   "metadata": {},
   "source": [
    "#### Get a dictionary with queries and their list of document relevances"
   ]
  },
  {
   "cell_type": "code",
   "execution_count": 3,
   "metadata": {
    "collapsed": true
   },
   "outputs": [],
   "source": [
    "with open('query_relevance.txt', 'r', encoding=\"utf8\") as f:\n",
    "    text = f.read()\n",
    "    \n",
    "text.split('\\n')[0].split('\\t')[0]\n",
    "\n",
    "query_dict = {}\n",
    "\n",
    "for query_doc in text.split('\\n'):\n",
    "    l = query_doc.split('\\t')    \n",
    "    if l[0] not in query_dict.keys():\n",
    "        query_dict[l[0]] = {l[2][9:-1]: l[-1]}\n",
    "    else:    \n",
    "        query_dict[l[0]][l[2][9:-1]] = l[-1]"
   ]
  },
  {
   "cell_type": "markdown",
   "metadata": {},
   "source": [
    "#### After the request, the results are saved in a dictionary"
   ]
  },
  {
   "cell_type": "code",
   "execution_count": 7,
   "metadata": {},
   "outputs": [],
   "source": [
    "google_retrieval_dict = {}\n",
    "import time\n",
    "#[url.split('page/')[1] for url in search('site:dbpedia.org/page -site:dbpedia.org/page/category '+ curr_query[1], stop=20)]"
   ]
  },
  {
   "cell_type": "code",
   "execution_count": 8,
   "metadata": {
    "scrolled": true
   },
   "outputs": [
    {
     "name": "stdout",
     "output_type": "stream",
     "text": [
      "('INEX_LD-20120111', 'vietnam war movie')\n",
      "('INEX_LD-20120112', 'vietnam war facts')\n",
      "('INEX_LD-20120121', 'vietnam food recipes')\n",
      "('INEX_LD-20120122', 'vietnamese food blog')\n",
      "('INEX_LD-20120131', 'vietnam travel national park')\n",
      "('INEX_LD-20120132', 'vietnam travel airports')\n",
      "('INEX_LD-20120211', 'guitar chord tuning')\n"
     ]
    },
    {
     "ename": "KeyboardInterrupt",
     "evalue": "",
     "output_type": "error",
     "traceback": [
      "\u001b[1;31m---------------------------------------------------------------------------\u001b[0m",
      "\u001b[1;31mKeyboardInterrupt\u001b[0m                         Traceback (most recent call last)",
      "\u001b[1;32m<ipython-input-8-2751af231bae>\u001b[0m in \u001b[0;36m<module>\u001b[1;34m()\u001b[0m\n\u001b[0;32m     12\u001b[0m         \u001b[0mprint\u001b[0m\u001b[1;33m(\u001b[0m\u001b[0mcurr_query\u001b[0m\u001b[1;33m)\u001b[0m\u001b[1;33m\u001b[0m\u001b[0m\n\u001b[0;32m     13\u001b[0m         \u001b[0mquery_written\u001b[0m\u001b[1;33m.\u001b[0m\u001b[0mappend\u001b[0m\u001b[1;33m(\u001b[0m\u001b[0mcurr_query\u001b[0m\u001b[1;33m)\u001b[0m\u001b[1;33m\u001b[0m\u001b[0m\n\u001b[1;32m---> 14\u001b[1;33m         \u001b[0mtime\u001b[0m\u001b[1;33m.\u001b[0m\u001b[0msleep\u001b[0m\u001b[1;33m(\u001b[0m\u001b[1;36m15\u001b[0m\u001b[1;33m)\u001b[0m\u001b[1;33m\u001b[0m\u001b[0m\n\u001b[0m\u001b[0;32m     15\u001b[0m \u001b[1;32mexcept\u001b[0m \u001b[0mException\u001b[0m \u001b[1;32mas\u001b[0m \u001b[0me\u001b[0m\u001b[1;33m:\u001b[0m\u001b[1;33m\u001b[0m\u001b[0m\n\u001b[0;32m     16\u001b[0m     \u001b[0mprint\u001b[0m\u001b[1;33m(\u001b[0m\u001b[1;34m\"ERROR!\"\u001b[0m\u001b[1;33m)\u001b[0m\u001b[1;33m\u001b[0m\u001b[0m\n",
      "\u001b[1;31mKeyboardInterrupt\u001b[0m: "
     ]
    }
   ],
   "source": [
    "query_written = []\n",
    "try:\n",
    "    for curr_query in queries[0:100]:\n",
    "        results=[url.split('page/')[1] for url in search('site:dbpedia.org/page -site:dbpedia.org/page/category '+ curr_query[1], stop=20)]\n",
    "        google_retrieval_dict[curr_query[0]] = []\n",
    "        for doc_title in results:\n",
    "            if doc_title in query_dict[curr_query[0]].keys():\n",
    "                doc_rel = query_dict[curr_query[0]][doc_title] \n",
    "            else:\n",
    "                doc_rel = 0\n",
    "            google_retrieval_dict[curr_query[0]].append([doc_title,  doc_rel])\n",
    "        print(curr_query)\n",
    "        query_written.append(curr_query)  \n",
    "        time.sleep(15)\n",
    "except Exception as e:\n",
    "    print(\"ERROR!\")\n",
    "with codecs.open(\"google_retrieval_dict.txt\", \"w\", \"utf-8\") as file:\n",
    "    file.write(str(google_retrieval_dict))\n"
   ]
  }
 ],
 "metadata": {
  "kernelspec": {
   "display_name": "Python 3",
   "language": "python",
   "name": "python3"
  },
  "language_info": {
   "codemirror_mode": {
    "name": "ipython",
    "version": 3
   },
   "file_extension": ".py",
   "mimetype": "text/x-python",
   "name": "python",
   "nbconvert_exporter": "python",
   "pygments_lexer": "ipython3",
   "version": "3.6.2"
  }
 },
 "nbformat": 4,
 "nbformat_minor": 2
}
