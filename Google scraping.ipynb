{
 "cells": [
  {
   "cell_type": "markdown",
   "metadata": {},
   "source": [
    "# Google scraping"
   ]
  },
  {
   "cell_type": "markdown",
   "metadata": {},
   "source": [
    "The code retrieved the first 20 documents. Only DBpedia results are considered."
   ]
  },
  {
   "cell_type": "markdown",
   "metadata": {},
   "source": [
    "#### Get the list of queries"
   ]
  },
  {
   "cell_type": "code",
   "execution_count": 2,
   "metadata": {},
   "outputs": [],
   "source": [
    "import codecs\n",
    "import json\n",
    "import urllib.request\n",
    "from googlesearch import search"
   ]
  },
  {
   "cell_type": "code",
   "execution_count": 3,
   "metadata": {},
   "outputs": [],
   "source": [
    "with open('query_list.txt', 'r') as f:\n",
    "    text = f.read()\n",
    "queries = text.split(\"\\n\")\n",
    "queries = [(query.split('\\t')[0], query.split('\\t')[1]) for query in queries]"
   ]
  },
  {
   "cell_type": "markdown",
   "metadata": {},
   "source": [
    "#### Get a dictionary with queries and their list of document relevances"
   ]
  },
  {
   "cell_type": "code",
   "execution_count": 4,
   "metadata": {},
   "outputs": [],
   "source": [
    "with open('query_relevance.txt', 'r', encoding=\"utf8\") as f:\n",
    "    text = f.read()\n",
    "    \n",
    "text.split('\\n')[0].split('\\t')[0]\n",
    "\n",
    "query_dict = {}\n",
    "\n",
    "for query_doc in text.split('\\n'):\n",
    "    l = query_doc.split('\\t')    \n",
    "    if l[0] not in query_dict.keys():\n",
    "        query_dict[l[0]] = {l[2][9:-1]: l[-1]}\n",
    "    else:    \n",
    "        query_dict[l[0]][l[2][9:-1]] = l[-1]"
   ]
  },
  {
   "cell_type": "markdown",
   "metadata": {},
   "source": [
    "#### After the request, the results are saved in a dictionary"
   ]
  },
  {
   "cell_type": "code",
   "execution_count": 5,
   "metadata": {},
   "outputs": [],
   "source": [
    "google_retrieval_dict = {}\n",
    "import time\n",
    "#[url.split('page/')[1] for url in search('site:dbpedia.org/page -site:dbpedia.org/page/category '+ curr_query[1], stop=20)]"
   ]
  },
  {
   "cell_type": "code",
   "execution_count": 7,
   "metadata": {
    "scrolled": true
   },
   "outputs": [
    {
     "name": "stdout",
     "output_type": "stream",
     "text": [
      "('QALD2_te-66', 'Which ships were called after Benjamin Franklin?')\n",
      "{'QALD2_te-66': [['John_Winthrop_(educator)', 0], ['American_Revolutionary_War', 0], ['United_States_Postal_Service', 0], ['Lightning_rod', '0'], ['List_of_National_Historic_Landmarks_in_Massachusetts', 0]]}\n"
     ]
    }
   ],
   "source": [
    "query_written = []\n",
    "try:\n",
    "    for curr_query in queries[199:200]:\n",
    "        results=[url.split('page/')[1] for url in search('site:dbpedia.org/page -site:fr.dbpedia.org -site:live.dbpedia.org -site:dbpedia.org/page/category '+ curr_query[1], stop=20, pause = 5)]\n",
    "        google_retrieval_dict[curr_query[0]] = []\n",
    "        for doc_title in results:\n",
    "            if doc_title in query_dict[curr_query[0]].keys():\n",
    "                doc_rel = query_dict[curr_query[0]][doc_title] \n",
    "            else:\n",
    "                doc_rel = 0\n",
    "            google_retrieval_dict[curr_query[0]].append([doc_title,  doc_rel])\n",
    "        print(curr_query)\n",
    "        query_written.append(curr_query)  \n",
    "except Exception as e:\n",
    "    print(\"BAN!\")\n",
    "    \n",
    "print(google_retrieval_dict)\n",
    "\n",
    "with codecs.open(\"google_retrieval_dict1.json\", \"w\", \"utf-8\") as file:\n",
    "    file.write(str(google_retrieval_dict))\n"
   ]
  },
  {
   "cell_type": "code",
   "execution_count": 27,
   "metadata": {},
   "outputs": [],
   "source": [
    "file = open('google_retrieval_dict.json', 'r') "
   ]
  },
  {
   "cell_type": "code",
   "execution_count": 7,
   "metadata": {},
   "outputs": [],
   "source": [
    "with open('google_retrieval_dict.json', \"r\") as file:\n",
    "    testo = file.readlines()\n",
    "    "
   ]
  },
  {
   "cell_type": "markdown",
   "metadata": {},
   "source": [
    "Converting the text in a dict"
   ]
  },
  {
   "cell_type": "code",
   "execution_count": 8,
   "metadata": {},
   "outputs": [],
   "source": [
    "import ast\n",
    "final_dict= ast.literal_eval(testo[0])"
   ]
  },
  {
   "cell_type": "markdown",
   "metadata": {},
   "source": [
    "The following code replace the entities' names with the correct encoding. It creates a ne dictionary called 'new_dict'"
   ]
  },
  {
   "cell_type": "code",
   "execution_count": 29,
   "metadata": {},
   "outputs": [],
   "source": [
    "new_dict={}\n",
    "for current_q in queries:\n",
    "    new_dict[current_q[0]] = []\n",
    "    for result in final_dict[current_q[0]]:\n",
    "        doc_title = urllib.parse.unquote(result[0])\n",
    "        if doc_title in query_dict[current_q[0]].keys():\n",
    "            doc_rel = query_dict[current_q[0]][doc_title] \n",
    "        else:\n",
    "            doc_rel = 0\n",
    "        new_dict[current_q[0]].append([doc_title,  doc_rel])\n"
   ]
  },
  {
   "cell_type": "code",
   "execution_count": 37,
   "metadata": {},
   "outputs": [],
   "source": [
    "final_dict = json.dumps(new_dict, ensure_ascii=False)   #convert the dicionary in a json format"
   ]
  },
  {
   "cell_type": "code",
   "execution_count": 38,
   "metadata": {
    "collapsed": true
   },
   "outputs": [],
   "source": [
    "with codecs.open(\"google_retrieval_dict.json\", \"w\", \"utf-8\") as file:\n",
    "    file.write(str(final_dict))"
   ]
  }
 ],
 "metadata": {
  "kernelspec": {
   "display_name": "Python 3",
   "language": "python",
   "name": "python3"
  },
  "language_info": {
   "codemirror_mode": {
    "name": "ipython",
    "version": 3
   },
   "file_extension": ".py",
   "mimetype": "text/x-python",
   "name": "python",
   "nbconvert_exporter": "python",
   "pygments_lexer": "ipython3",
   "version": "3.6.7"
  }
 },
 "nbformat": 4,
 "nbformat_minor": 2
}
