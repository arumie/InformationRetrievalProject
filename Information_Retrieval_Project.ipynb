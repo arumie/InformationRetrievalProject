{
 "cells": [
  {
   "cell_type": "markdown",
   "metadata": {},
   "source": [
    "# Information Retrieval Project\n",
    "\n",
    "### In order to evaluate the Nordlys toolkit, we want to answer to the following questions:\n",
    "- How  are  Nordlys  toolkit  performances,  considering  the  different  types  of  questions  (SemSearchES,INEX-LD, QALD2, ListSearch)?\n",
    "- How are Nordlys performances compared to the Google search engines?\n"
   ]
  },
  {
   "cell_type": "markdown",
   "metadata": {
    "collapsed": true
   },
   "source": [
    "Here we load the list of queries"
   ]
  },
  {
   "cell_type": "code",
   "execution_count": 1,
   "metadata": {},
   "outputs": [],
   "source": [
    "with open('query_list.txt', 'r') as f:\n",
    "    text = f.read()\n",
    "    \n",
    "raw_queries = text.split(\"\\n\")\n",
    "\n",
    "list_queries=[]\n",
    "for i in raw_queries:\n",
    "    list_queries.append(i.split(\"\\t\")[1])"
   ]
  },
  {
   "cell_type": "markdown",
   "metadata": {
    "collapsed": true
   },
   "source": [
    "In order to calculate MAP and Normalized DCG we need to know how many relevant results exist for each query. Here we make a list of size 3 for each query. The number in index i in the list is the number of rated documents with score i for this query. "
   ]
  },
  {
   "cell_type": "code",
   "execution_count": 2,
   "metadata": {
    "scrolled": false
   },
   "outputs": [],
   "source": [
    "import codecs\n",
    "from scipy import stats\n",
    "import matplotlib.pyplot as plt\n",
    "\n",
    "f2 = codecs.open(\"query_relevance.txt\", encoding=\"utf-8\")\n",
    "text = f2.read()\n",
    "\n",
    "\n",
    "relevance_lines = text.split(\"\\n\")\n",
    "\n",
    "query_counts = {}\n",
    "current_query = text.split(\"\\n\")[0].split(\"\\t\")[0]\n",
    "temp_count_list = [0,0,0]\n",
    "\n",
    "\n",
    "counter = 0\n",
    "while (counter < len(relevance_lines)):\n",
    "    query_name = relevance_lines[counter].split(\"\\t\")[0]\n",
    "    relevance = relevance_lines[counter].split(\"\\t\")[3]\n",
    "    if query_name != current_query:\n",
    "        query_counts[current_query] = temp_count_list\n",
    "        current_query = query_name\n",
    "        temp_count_list = [0,0,0]\n",
    "        \n",
    "    temp_count_list[int(relevance)] += 1\n",
    "    counter += 1\n",
    "    if counter == len(relevance_lines):\n",
    "        query_counts[current_query] = temp_count_list\n"
   ]
  },
  {
   "cell_type": "markdown",
   "metadata": {},
   "source": [
    "## Calculating Mean Average Precision (MAP) measure"
   ]
  },
  {
   "cell_type": "markdown",
   "metadata": {},
   "source": [
    "In the following section we will calculate the MAP of a list of query results. The result of a single consists of the name of the query, and a list of tuples containing the retrieved document and the relevancy of that document. These tuples are in the same order as they were returned from the retrieval system. \n",
    "\n",
    "Since MAP only works on binary relevancy levels, we have decided that both the level 1 and 2 are relevant while level 0 is not relevant.\n",
    "\n",
    "P(q,k) calculates the precision of a query q at k retrieved documents but only on steps wher the new retrieved document is considered to be relevant."
   ]
  },
  {
   "cell_type": "code",
   "execution_count": 3,
   "metadata": {},
   "outputs": [],
   "source": [
    "import numpy as np\n",
    "\n",
    "#Returns true if the document is relevant (values 1 and 2)\n",
    "def rel(q,k,input_queries):\n",
    "    return int(input_queries[q][k][1]) > 0\n",
    "\n",
    "#Returns the precision at k for query q\n",
    "def P(q,k,input_queries):\n",
    "    k_retrieved = input_queries[q][0:(k)]\n",
    "    relevant_retrieved = (x for x in k_retrieved if int(x[1]) > 0)    \n",
    "    return len(list(relevant_retrieved))/(len(k_retrieved)*1.0)\n",
    "\n",
    "#Takes he average of the precisions of query q for k = max_k\n",
    "def AveP(q,input_queries,max_k):\n",
    "    res = 0\n",
    "    for k in range(0,max_k):\n",
    "        res += np.dot(P(q,k+1,input_queries),rel(q,k+1,input_queries))\n",
    "    number_of_relevant = query_counts[q][1] +  query_counts[q][2]\n",
    "    if (number_of_relevant == 0):\n",
    "        return 0\n",
    "    return res/(number_of_relevant*1.0)\n",
    "\n",
    "def MAP(input_queries, k, verbose=True):    \n",
    "    res = 0\n",
    "    count = 0  \n",
    "    zeroprecs = 0\n",
    "    for q in input_queries:\n",
    "        addition = AveP(q,input_queries,k)\n",
    "        if addition > 0:\n",
    "            count += 1\n",
    "            res += addition        \n",
    "        else:\n",
    "            zeroprecs += 1\n",
    "    if verbose:\n",
    "        print(\"Number of queeries with avep = 0:\", zeroprecs)\n",
    "    return res/count \n",
    "\n",
    "def GMAP(input_queries, k, verbose=True):    \n",
    "    res = 1\n",
    "    count = 0\n",
    "    zeroprecs = 0\n",
    "    for q in input_queries:\n",
    "        addition = AveP(q,input_queries,k)\n",
    "        if addition > 0:\n",
    "            count += 1\n",
    "            res += np.log(addition)\n",
    "        else:\n",
    "            zeroprecs += 1\n",
    "    if verbose:\n",
    "        print(\"Number of queeries with avep = 0:\", zeroprecs)\n",
    "    return np.exp(res/count)"
   ]
  },
  {
   "cell_type": "markdown",
   "metadata": {},
   "source": [
    "## Calculating Discounted Cumulative Gain (DCG) measure"
   ]
  },
  {
   "cell_type": "markdown",
   "metadata": {},
   "source": [
    "Discounted cumulative gain sums the knowledge gain of each retrieved document divided by log2 of the position. This means that a a very important document (rank 2) at position 3 will give a higher score than a very important document at position 10.\n",
    "\n",
    "For each query we canculate DCG@k meaning that only the first k query results are considered in the calculation.\n",
    "For the normalization we also calculate IDCG, which is the ideal DCG for a perfect ranking. This is done based on the list how many relevant documents of each rank exists for each query.\n",
    "\n",
    "Since we have more than one query for each search engine, we return the average NDCG."
   ]
  },
  {
   "cell_type": "code",
   "execution_count": 4,
   "metadata": {},
   "outputs": [],
   "source": [
    "import numpy as np\n",
    "\n",
    "#Calculate Discounted Cumulative Gain\n",
    "def DCG(query_results,k):\n",
    "    dcg = float(query_results[0][1])\n",
    "    for i in range(1,k):\n",
    "        dcg += float(query_results[i][1])/float(np.log2(i+1))\n",
    "    return dcg\n",
    "\n",
    "#The score for a perfect ranking\n",
    "def IDCG(q,k):\n",
    "    #savek in j for later\n",
    "    j = k\n",
    "    relevant_for_query = query_counts[q]\n",
    "    gains = []\n",
    "    #Add all gains of 2 and subtract that number from k\n",
    "    for i in range(min(k,relevant_for_query[2])):     \n",
    "        gains.append([\"Dummy\",2])\n",
    "    k = k-relevant_for_query[2]\n",
    "    #Add all gains of 1 and subtract that number from k\n",
    "    for i in range(min(k,relevant_for_query[1])):      \n",
    "        gains.append([\"Dummy\",1])\n",
    "    k = k-relevant_for_query[1]\n",
    "    #Fill the rest of the list with gain of 0 to avoid indexing problems\n",
    "    for i in range(k):\n",
    "        gains.append([\"Dummy\",0])        \n",
    "    \n",
    "    idcg = DCG(gains,j)    \n",
    "    #print(idcg)\n",
    "    return idcg\n",
    "\n",
    "#Calculates the average NDCG for the first k documents, only if the retrieved documents >= 20 \n",
    "def AvgNDCG(input_queries,k):\n",
    "    sum_ndcg = 0\n",
    "    for q in input_queries:\n",
    "        addition = (DCG(input_queries[q],k)/IDCG(q,k))  #NDCG\n",
    "        sum_ndcg += addition\n",
    "    return sum_ndcg/len(input_queries)  \n",
    "        \n"
   ]
  },
  {
   "cell_type": "code",
   "execution_count": 5,
   "metadata": {},
   "outputs": [],
   "source": [
    "#Reading function. It adds fake documents for having 20 retrieved documents for each queries\n",
    "import codecs\n",
    "import json\n",
    "\n",
    "def is_dublicate(results, current_result):\n",
    "    count = 0\n",
    "    for i in range(len(results)):\n",
    "        if results[i][0] == current_result[0]:    \n",
    "            count += 1\n",
    "            if count > 1:\n",
    "                results[i][1] = 0\n",
    "    return results\n",
    "                \n",
    "\n",
    "def read_queries(file_name):\n",
    "    query_reader = codecs.open(file_name, encoding=\"utf-8\")\n",
    "    text = query_reader.read()\n",
    "    queries = json.loads(text)\n",
    "\n",
    "    for q in queries:\n",
    "        for i in range(len(queries[q])):\n",
    "            queries[q] = is_dublicate(queries[q], queries[q][i])                \n",
    "        for x in range(20-len(queries[q])):\n",
    "            queries[q].append([\"Dummy\",0])\n",
    "    return queries\n",
    "\n",
    "\n"
   ]
  },
  {
   "cell_type": "markdown",
   "metadata": {},
   "source": [
    "## Calculations for Nordlys"
   ]
  },
  {
   "cell_type": "code",
   "execution_count": 6,
   "metadata": {},
   "outputs": [
    {
     "name": "stdout",
     "output_type": "stream",
     "text": [
      "0.2755483431337512\n",
      "Number of queeries with avep = 0: 201\n",
      "0.049328420261789956\n",
      "Number of queeries with avep = 0: 201\n",
      "0.09142023503232588\n"
     ]
    }
   ],
   "source": [
    "Nordlys_queries= read_queries(\"nordlys_retrievals_jm.txt\")\n",
    "\n",
    "print(AvgNDCG(Nordlys_queries,10))\n",
    "print(GMAP(Nordlys_queries,10))\n",
    "print(MAP(Nordlys_queries,10))"
   ]
  },
  {
   "cell_type": "markdown",
   "metadata": {},
   "source": [
    "# Calculations for Google"
   ]
  },
  {
   "cell_type": "code",
   "execution_count": 7,
   "metadata": {},
   "outputs": [
    {
     "name": "stdout",
     "output_type": "stream",
     "text": [
      "0.16755585364955514\n",
      "Number of queeries with avep = 0: 317\n",
      "0.037226264322098315\n",
      "Number of queeries with avep = 0: 317\n",
      "0.07196141545052073\n"
     ]
    }
   ],
   "source": [
    "Google_queries = read_queries(\"google_retrieval_dict.json\")\n",
    "        \n",
    "print(AvgNDCG(Google_queries,10))\n",
    "print(GMAP(Google_queries,10))\n",
    "print(MAP(Google_queries,10))"
   ]
  },
  {
   "cell_type": "markdown",
   "metadata": {},
   "source": [
    "# Comparison of scores"
   ]
  },
  {
   "cell_type": "code",
   "execution_count": 8,
   "metadata": {},
   "outputs": [
    {
     "data": {
      "image/png": "[encoded data removed]",
      "text/plain": [
       "<Figure size 432x288 with 1 Axes>"
      ]
     },
     "metadata": {
      "needs_background": "light"
     },
     "output_type": "display_data"
    },
    {
     "name": "stdout",
     "output_type": "stream",
     "text": [
      "Number of queeries with avep = 0: 392\n",
      "Number of queeries with avep = 0: 378\n",
      "Number of queeries with avep = 0: 368\n",
      "Number of queeries with avep = 0: 329\n",
      "Number of queeries with avep = 0: 352\n",
      "Number of queeries with avep = 0: 301\n",
      "Number of queeries with avep = 0: 341\n",
      "Number of queeries with avep = 0: 273\n",
      "Number of queeries with avep = 0: 333\n",
      "Number of queeries with avep = 0: 254\n",
      "Number of queeries with avep = 0: 326\n",
      "Number of queeries with avep = 0: 235\n",
      "Number of queeries with avep = 0: 324\n",
      "Number of queeries with avep = 0: 228\n",
      "Number of queeries with avep = 0: 319\n",
      "Number of queeries with avep = 0: 218\n",
      "Number of queeries with avep = 0: 317\n",
      "Number of queeries with avep = 0: 211\n",
      "Number of queeries with avep = 0: 317\n",
      "Number of queeries with avep = 0: 201\n",
      "Number of queeries with avep = 0: 314\n",
      "Number of queeries with avep = 0: 195\n",
      "Number of queeries with avep = 0: 313\n",
      "Number of queeries with avep = 0: 189\n",
      "Number of queeries with avep = 0: 312\n",
      "Number of queeries with avep = 0: 179\n",
      "Number of queeries with avep = 0: 311\n",
      "Number of queeries with avep = 0: 176\n",
      "Number of queeries with avep = 0: 311\n",
      "Number of queeries with avep = 0: 173\n",
      "Number of queeries with avep = 0: 309\n",
      "Number of queeries with avep = 0: 166\n",
      "Number of queeries with avep = 0: 309\n",
      "Number of queeries with avep = 0: 157\n",
      "Number of queeries with avep = 0: 309\n",
      "Number of queeries with avep = 0: 153\n",
      "Number of queeries with avep = 0: 309\n",
      "Number of queeries with avep = 0: 149\n"
     ]
    },
    {
     "data": {
      "text/plain": [
       "<Figure size 432x288 with 0 Axes>"
      ]
     },
     "metadata": {},
     "output_type": "display_data"
    },
    {
     "data": {
      "image/png": "[encoded data removed]",
      "text/plain": [
       "<Figure size 432x288 with 1 Axes>"
      ]
     },
     "metadata": {
      "needs_background": "light"
     },
     "output_type": "display_data"
    },
    {
     "name": "stdout",
     "output_type": "stream",
     "text": [
      "Number of queeries with avep = 0: 392\n",
      "Number of queeries with avep = 0: 378\n",
      "Number of queeries with avep = 0: 368\n",
      "Number of queeries with avep = 0: 329\n",
      "Number of queeries with avep = 0: 352\n",
      "Number of queeries with avep = 0: 301\n",
      "Number of queeries with avep = 0: 341\n",
      "Number of queeries with avep = 0: 273\n",
      "Number of queeries with avep = 0: 333\n",
      "Number of queeries with avep = 0: 254\n",
      "Number of queeries with avep = 0: 326\n",
      "Number of queeries with avep = 0: 235\n",
      "Number of queeries with avep = 0: 324\n",
      "Number of queeries with avep = 0: 228\n",
      "Number of queeries with avep = 0: 319\n",
      "Number of queeries with avep = 0: 218\n",
      "Number of queeries with avep = 0: 317\n",
      "Number of queeries with avep = 0: 211\n",
      "Number of queeries with avep = 0: 317\n",
      "Number of queeries with avep = 0: 201\n",
      "Number of queeries with avep = 0: 314\n",
      "Number of queeries with avep = 0: 195\n",
      "Number of queeries with avep = 0: 313\n",
      "Number of queeries with avep = 0: 189\n",
      "Number of queeries with avep = 0: 312\n",
      "Number of queeries with avep = 0: 179\n",
      "Number of queeries with avep = 0: 311\n",
      "Number of queeries with avep = 0: 176\n",
      "Number of queeries with avep = 0: 311\n",
      "Number of queeries with avep = 0: 173\n",
      "Number of queeries with avep = 0: 309\n",
      "Number of queeries with avep = 0: 166\n",
      "Number of queeries with avep = 0: 309\n",
      "Number of queeries with avep = 0: 157\n",
      "Number of queeries with avep = 0: 309\n",
      "Number of queeries with avep = 0: 153\n",
      "Number of queeries with avep = 0: 309\n",
      "Number of queeries with avep = 0: 149\n"
     ]
    },
    {
     "data": {
      "text/plain": [
       "<Figure size 432x288 with 0 Axes>"
      ]
     },
     "metadata": {},
     "output_type": "display_data"
    },
    {
     "data": {
      "image/png": "[encoded data removed]",
      "text/plain": [
       "<Figure size 432x288 with 1 Axes>"
      ]
     },
     "metadata": {
      "needs_background": "light"
     },
     "output_type": "display_data"
    },
    {
     "data": {
      "text/plain": [
       "<Figure size 432x288 with 0 Axes>"
      ]
     },
     "metadata": {},
     "output_type": "display_data"
    }
   ],
   "source": [
    "import matplotlib.pyplot as plt\n",
    "\n",
    "measures = {\n",
    "    'ndcg': [AvgNDCG, 'NDCG scores', 'NDCG_scores'], \n",
    "    'map': [MAP, 'MAP scores', 'MAP_scores'], \n",
    "    'gmap': [GMAP, 'GMAP scores', 'GMAP_scores']\n",
    "}\n",
    "\n",
    "def calculate_and_plot_eval_measure(eval_measure, google_queries, nordlys_queries):\n",
    "    google_scores = []\n",
    "    nordlys_scores = []    \n",
    "    for i in range (1,20):\n",
    "        google_scores.append(measures[eval_measure][0](Google_queries,i))\n",
    "        nordlys_scores.append(measures[eval_measure][0](Nordlys_queries,i))\n",
    "    \n",
    "    plt.figure()\n",
    "    ax = plt.subplot(111)\n",
    "    plt.plot()\n",
    "    plt.plot(np.arange(1,20,1), google_scores, color='black', label='Google')\n",
    "    plt.plot(np.arange(1,20,1), nordlys_scores, color='green', label='Nordlys')\n",
    "    ax.set_title(measures[eval_measure][1])\n",
    "\n",
    "    ax.legend()\n",
    "    plt.show()\n",
    "    plt.savefig(measures[eval_measure][2] + '.png')\n",
    "    \n",
    "for measure in measures:\n",
    "    calculate_and_plot_eval_measure(measure, Google_queries, Nordlys_queries)\n",
    "    "
   ]
  },
  {
   "cell_type": "markdown",
   "metadata": {},
   "source": [
    "The scores for both MAP and NDCG are significantly lower for Google than for Nordlys. This is surprising as we predicted that Google would be better.\n",
    "One reason that it is lower is that Google retrieved documents that are relevant, but they are not included in the 200 rated documents for the query. This has forced us to rate these documents as not relevant. Too see how much of a problem this is, we have manually rated the retrieved documents from a few queries and done the expiriments again for this subset of queries."
   ]
  },
  {
   "cell_type": "markdown",
   "metadata": {},
   "source": [
    "Creating subset of dict"
   ]
  },
  {
   "cell_type": "code",
   "execution_count": 9,
   "metadata": {},
   "outputs": [],
   "source": [
    "def subset_dict_Nordlys(regex):\n",
    "    my_dict={}\n",
    "    for key, value in Nordlys_queries.items():\n",
    "        if key.startswith(regex):\n",
    "            my_dict[key]=value\n",
    "    return my_dict\n",
    "def subset_dict_Google(regex):\n",
    "    my_dict={}\n",
    "    for key, value in Google_queries.items():\n",
    "        if key.startswith(regex):\n",
    "            my_dict[key]=value\n",
    "    return my_dict"
   ]
  },
  {
   "cell_type": "markdown",
   "metadata": {},
   "source": [
    "### Manual assessments"
   ]
  },
  {
   "cell_type": "markdown",
   "metadata": {},
   "source": [
    "#### General assessments K = 5"
   ]
  },
  {
   "cell_type": "code",
   "execution_count": 32,
   "metadata": {},
   "outputs": [
    {
     "name": "stdout",
     "output_type": "stream",
     "text": [
      "Nordlys\n",
      "Average NDCG:  0.39318739343778947\n",
      "GMAP:  0.058908585740845364\n",
      "MAP:  0.08670493916452214\n",
      "----------------------------------------------\n",
      "Google\n",
      "Average NDCG:  0.4455855103191435\n",
      "GMAP:  0.08075549249608976\n",
      "MAP:  0.13951236962617364\n",
      "----------------------------------------------\n",
      "Difference (google - nordlys)\n",
      "Average NDCG:  0.05239811688135404\n",
      "GMAP:  0.0218469067552444\n",
      "MAP:  0.0528074304616515\n"
     ]
    }
   ],
   "source": [
    "manual_nordlys= read_queries(\"manual_assessments/manual_assessments_nordlys_All.json\")\n",
    "manual_google= read_queries(\"manual_assessments/manual_assessments_google_All.json\")\n",
    "\n",
    "print('Nordlys')\n",
    "print('Average NDCG: ', AvgNDCG(manual_nordlys,5))\n",
    "print('GMAP: ', GMAP(manual_nordlys,5, False))\n",
    "print('MAP: ', MAP(manual_nordlys,5, False))\n",
    "\n",
    "print('----------------------------------------------')\n",
    "print('Google')\n",
    "print('Average NDCG: ', AvgNDCG(manual_google,5))\n",
    "print('GMAP: ', GMAP(manual_google,5, False))\n",
    "print('MAP: ', MAP(manual_google,5, False))\n",
    "\n",
    "\n",
    "print('----------------------------------------------')\n",
    "print('Difference (google - nordlys)')\n",
    "\n",
    "print('Average NDCG: ', AvgNDCG(manual_google,5) - AvgNDCG(manual_nordlys, 5))\n",
    "print('GMAP: ', GMAP(manual_google,5, False) - GMAP(manual_nordlys, 5, False))\n",
    "print('MAP: ', MAP(manual_google,5, False) - MAP(manual_nordlys, 5, False))"
   ]
  },
  {
   "cell_type": "markdown",
   "metadata": {},
   "source": [
    "#### General assessments K=10"
   ]
  },
  {
   "cell_type": "code",
   "execution_count": 31,
   "metadata": {},
   "outputs": [
    {
     "name": "stdout",
     "output_type": "stream",
     "text": [
      "Nordlys\n",
      "Average NDCG:  0.3500490129550182\n",
      "GMAP:  0.07632221047456275\n",
      "MAP:  0.12369820084011567\n",
      "----------------------------------------------\n",
      "Google\n",
      "Average NDCG:  0.40085754288489894\n",
      "GMAP:  0.08068842842898369\n",
      "MAP:  0.155823374006498\n",
      "----------------------------------------------\n",
      "Difference (google - nordlys)\n",
      "Average NDCG:  0.05080852992988072\n",
      "GMAP:  0.004366217954420937\n",
      "MAP:  0.032125173166382345\n"
     ]
    }
   ],
   "source": [
    "manual_nordlys= read_queries(\"manual_assessments/manual_assessments_nordlys_All.json\")\n",
    "manual_google= read_queries(\"manual_assessments/manual_assessments_google_All.json\")\n",
    "\n",
    "print('Nordlys')\n",
    "print('Average NDCG: ', AvgNDCG(manual_nordlys,10))\n",
    "print('GMAP: ', GMAP(manual_nordlys,10, False))\n",
    "print('MAP: ', MAP(manual_nordlys,10, False))\n",
    "\n",
    "print('----------------------------------------------')\n",
    "print('Google')\n",
    "print('Average NDCG: ', AvgNDCG(manual_google,10))\n",
    "print('GMAP: ', GMAP(manual_google,10, False))\n",
    "print('MAP: ', MAP(manual_google,10, False))\n",
    "\n",
    "\n",
    "print('----------------------------------------------')\n",
    "print('Difference (google - nordlys)')\n",
    "\n",
    "print('Average NDCG: ', AvgNDCG(manual_google,10) - AvgNDCG(manual_nordlys, 10))\n",
    "print('GMAP: ', GMAP(manual_google,10, False) - GMAP(manual_nordlys, 10, False))\n",
    "print('MAP: ', MAP(manual_google,10, False) - MAP(manual_nordlys, 10, False))"
   ]
  },
  {
   "cell_type": "markdown",
   "metadata": {},
   "source": [
    "#### INEX assessments"
   ]
  },
  {
   "cell_type": "code",
   "execution_count": 29,
   "metadata": {},
   "outputs": [
    {
     "name": "stdout",
     "output_type": "stream",
     "text": [
      "Nordlys\n",
      "Average NDCG:  0.36314961285394226\n",
      "GMAP:  0.09180539432282127\n",
      "MAP:  0.09538914368475704\n",
      "----------------------------------------------\n",
      "Google\n",
      "Average NDCG:  0.49606988289054893\n",
      "GMAP:  0.06635962246368932\n",
      "MAP:  0.12523068775229199\n",
      "----------------------------------------------\n",
      "Difference (google - nordlys)\n",
      "Average NDCG:  0.13292027003660667\n",
      "GMAP:  -0.025445771859131952\n",
      "MAP:  0.029841544067534947\n"
     ]
    }
   ],
   "source": [
    "manual_nordlys_INEX= read_queries(\"manual_assessments/manual_assessments_nordlys_INEX.json\")\n",
    "manual_google_INEX= read_queries(\"manual_assessments/manual_assessments_google_INEX.json\")\n",
    "\n",
    "print('Nordlys')\n",
    "print('Average NDCG: ', AvgNDCG(manual_nordlys_INEX,10))\n",
    "print('GMAP: ', GMAP(manual_nordlys_INEX,10, False))\n",
    "print('MAP: ', MAP(manual_nordlys_INEX,10, False))\n",
    "\n",
    "print('----------------------------------------------')\n",
    "print('Google')\n",
    "print('Average NDCG: ', AvgNDCG(manual_google_INEX,10))\n",
    "print('GMAP: ', GMAP(manual_google_INEX,10, False))\n",
    "print('MAP: ', MAP(manual_google_INEX,10, False))\n",
    "\n",
    "\n",
    "print('----------------------------------------------')\n",
    "print('Difference (google - nordlys)')\n",
    "\n",
    "print('Average NDCG: ', AvgNDCG(manual_google_INEX,10) - AvgNDCG(manual_nordlys_INEX, 10))\n",
    "print('GMAP: ', GMAP(manual_google_INEX,10, False) - GMAP(manual_nordlys_INEX, 10, False))\n",
    "print('MAP: ', MAP(manual_google_INEX,10, False) - MAP(manual_nordlys_INEX, 10, False))\n"
   ]
  },
  {
   "cell_type": "markdown",
   "metadata": {},
   "source": [
    "#### QALD2 assessments"
   ]
  },
  {
   "cell_type": "code",
   "execution_count": 22,
   "metadata": {},
   "outputs": [
    {
     "name": "stdout",
     "output_type": "stream",
     "text": [
      "Nordlys\n",
      "Average NDCG:  0.203054389083616\n",
      "GMAP:  0.038963864287363814\n",
      "MAP:  0.045054945054945054\n",
      "----------------------------------------------\n",
      "Google\n",
      "Average NDCG:  0.5059724686488688\n",
      "GMAP:  0.18386066383599908\n",
      "MAP:  0.2747826086956522\n",
      "----------------------------------------------\n",
      "Difference (google - nordlys)\n",
      "Average NDCG:  0.3029180795652528\n",
      "GMAP:  0.14489679954863527\n",
      "MAP:  0.22972766364070712\n"
     ]
    }
   ],
   "source": [
    "manual_nordlys_QALD2 = read_queries(\"manual_assessments/manual_assessments_nordlys_QALD2.json\")\n",
    "manual_google_QALD2 = read_queries(\"manual_assessments/manual_assessments_google_QALD2.json\")\n",
    "\n",
    "print('Nordlys')\n",
    "print('Average NDCG: ', AvgNDCG(manual_nordlys_QALD2,5))\n",
    "print('GMAP: ', GMAP(manual_nordlys_QALD2,5, False))\n",
    "print('MAP: ', MAP(manual_nordlys_QALD2,5, False))\n",
    "\n",
    "print('----------------------------------------------')\n",
    "print('Google')\n",
    "print('Average NDCG: ', AvgNDCG(manual_google_QALD2,5))\n",
    "print('GMAP: ', GMAP(manual_google_QALD2,5, False))\n",
    "print('MAP: ', MAP(manual_google_QALD2,5, False))\n",
    "\n",
    "\n",
    "print('----------------------------------------------')\n",
    "print('Difference (google - nordlys)')\n",
    "\n",
    "print('Average NDCG: ', AvgNDCG(manual_google_QALD2,5) - AvgNDCG(manual_nordlys_QALD2, 5))\n",
    "print('GMAP: ', GMAP(manual_google_QALD2,5, False) - GMAP(manual_nordlys_QALD2, 5, False))\n",
    "print('MAP: ', MAP(manual_google_QALD2,5, False) - MAP(manual_nordlys_QALD2, 5, False))"
   ]
  },
  {
   "cell_type": "markdown",
   "metadata": {},
   "source": [
    "#### TREC assessments"
   ]
  },
  {
   "cell_type": "code",
   "execution_count": 21,
   "metadata": {},
   "outputs": [
    {
     "name": "stdout",
     "output_type": "stream",
     "text": [
      "Nordlys\n",
      "Average NDCG:  0.2906501749104693\n",
      "GMAP:  0.033517060904020124\n",
      "MAP:  0.045584968458531674\n",
      "----------------------------------------------\n",
      "Google\n",
      "Average NDCG:  0.36721396445609933\n",
      "GMAP:  0.051570368649678046\n",
      "MAP:  0.0701599975922636\n",
      "----------------------------------------------\n",
      "Difference (google - nordlys)\n",
      "Average NDCG:  0.07656378954563003\n",
      "GMAP:  0.018053307745657922\n",
      "MAP:  0.024575029133731927\n"
     ]
    }
   ],
   "source": [
    "manual_nordlys_TREC = read_queries(\"manual_assessments/manual_assessments_nordlys_TREC.json\")\n",
    "manual_google_TREC = read_queries(\"manual_assessments/manual_assessments_google_TREC.json\")\n",
    "\n",
    "print('Nordlys')\n",
    "print('Average NDCG: ', AvgNDCG(manual_nordlys_TREC,5))\n",
    "print('GMAP: ', GMAP(manual_nordlys_TREC,5, False))\n",
    "print('MAP: ', MAP(manual_nordlys_TREC,5, False))\n",
    "\n",
    "print('----------------------------------------------')\n",
    "print('Google')\n",
    "print('Average NDCG: ', AvgNDCG(manual_google_TREC,5))\n",
    "print('GMAP: ', GMAP(manual_google_TREC,5, False))\n",
    "print('MAP: ', MAP(manual_google_TREC,5, False))\n",
    "\n",
    "\n",
    "print('----------------------------------------------')\n",
    "print('Difference (google - nordlys)')\n",
    "\n",
    "print('Average NDCG: ', AvgNDCG(manual_google_TREC,5) - AvgNDCG(manual_nordlys_TREC, 5))\n",
    "print('GMAP: ', GMAP(manual_google_TREC,5, False) - GMAP(manual_nordlys_TREC, 5, False))\n",
    "print('MAP: ', MAP(manual_google_TREC,5, False) - MAP(manual_nordlys_TREC, 5, False))"
   ]
  },
  {
   "cell_type": "markdown",
   "metadata": {},
   "source": [
    "#### SemSearch assessments"
   ]
  },
  {
   "cell_type": "code",
   "execution_count": 25,
   "metadata": {},
   "outputs": [
    {
     "name": "stdout",
     "output_type": "stream",
     "text": [
      "Nordlys\n",
      "Average NDCG:  0.6703413675162152\n",
      "GMAP:  0.19649189727352245\n",
      "MAP:  0.22406515474412825\n",
      "----------------------------------------------\n",
      "Google\n",
      "Average NDCG:  0.44722042055293065\n",
      "GMAP:  0.138366546289872\n",
      "MAP:  0.1958493222553157\n",
      "----------------------------------------------\n",
      "Difference (google - nordlys)\n",
      "Average NDCG:  -0.22312094696328455\n",
      "GMAP:  -0.05812535098365046\n",
      "MAP:  -0.028215832488812542\n"
     ]
    }
   ],
   "source": [
    "manual_nordlys_TREC = read_queries(\"manual_assessments/manual_assessments_nordlys_SemSearch.json\")\n",
    "manual_google_TREC = read_queries(\"manual_assessments/manual_assessments_google_SemSearch.json\")\n",
    "\n",
    "print('Nordlys')\n",
    "print('Average NDCG: ', AvgNDCG(manual_nordlys_TREC,10))\n",
    "print('GMAP: ', GMAP(manual_nordlys_TREC,10, False))\n",
    "print('MAP: ', MAP(manual_nordlys_TREC,10, False))\n",
    "\n",
    "print('----------------------------------------------')\n",
    "print('Google')\n",
    "print('Average NDCG: ', AvgNDCG(manual_google_TREC,10))\n",
    "print('GMAP: ', GMAP(manual_google_TREC,10, False))\n",
    "print('MAP: ', MAP(manual_google_TREC,10, False))\n",
    "\n",
    "\n",
    "print('----------------------------------------------')\n",
    "print('Difference (google - nordlys)')\n",
    "\n",
    "print('Average NDCG: ', AvgNDCG(manual_google_TREC,10) - AvgNDCG(manual_nordlys_TREC, 10))\n",
    "print('GMAP: ', GMAP(manual_google_TREC,10, False) - GMAP(manual_nordlys_TREC, 10, False))\n",
    "print('MAP: ', MAP(manual_google_TREC,10, False) - MAP(manual_nordlys_TREC, 10, False))"
   ]
  },
  {
   "cell_type": "markdown",
   "metadata": {},
   "source": [
    "### Statistical tests"
   ]
  },
  {
   "cell_type": "code",
   "execution_count": null,
   "metadata": {},
   "outputs": [],
   "source": [
    "import pandas as pd"
   ]
  },
  {
   "cell_type": "code",
   "execution_count": null,
   "metadata": {},
   "outputs": [],
   "source": [
    "def stat_test(nordlys, google, k):\n",
    "    df = pd.DataFrame()\n",
    "    list_avep_nordlys=[]\n",
    "    list_avep_google= []\n",
    "    count_nordlys = 0  \n",
    "    count_google = 0  \n",
    "    zeroprecs = 0\n",
    "    for q in nordlys:\n",
    "        addition_nordlys = AveP(q,nordlys,k)\n",
    "        list_avep_nordlys.append(addition_nordlys)\n",
    "        addition_google = AveP(q,google,k)\n",
    "        list_avep_google.append(addition_google)\n",
    "        if addition_nordlys > 0:\n",
    "            count_nordlys += 1   \n",
    "        if addition_google > 0:\n",
    "            count_google += 1   \n",
    "\n",
    "    df[\"Nordlys\"]= list_avep_nordlys\n",
    "    df[\"Google\"]= list_avep_google\n",
    "    differenza = df[\"Google\"] - df[\"Nordlys\"]\n",
    "    return(differenza)"
   ]
  },
  {
   "cell_type": "markdown",
   "metadata": {},
   "source": [
    "Genaral"
   ]
  },
  {
   "cell_type": "code",
   "execution_count": null,
   "metadata": {},
   "outputs": [],
   "source": [
    "# stats.ttest_rel(df[\"Google\"], df[\"Nordlys\"])     no noramal distribution, wilcoxon test is better"
   ]
  },
  {
   "cell_type": "code",
   "execution_count": null,
   "metadata": {},
   "outputs": [],
   "source": [
    "stats.wilcoxon(stat_test(Nordlys_queries, Google_queries, 10))  #pvalue << 0.01 -> "
   ]
  },
  {
   "cell_type": "code",
   "execution_count": null,
   "metadata": {},
   "outputs": [],
   "source": [
    "plt.hist(stat_test(Nordlys_queries, Google_queries, 10), bins='auto')\n",
    "plt.title(\"Histogram with 'auto' bins\")\n",
    "plt.show()"
   ]
  },
  {
   "cell_type": "markdown",
   "metadata": {},
   "source": [
    "Manual assessments"
   ]
  },
  {
   "cell_type": "code",
   "execution_count": null,
   "metadata": {},
   "outputs": [],
   "source": [
    "stats.wilcoxon(stat_test(Nordlys_queries_INEX, Google_queries_INEX, 10))"
   ]
  },
  {
   "cell_type": "code",
   "execution_count": null,
   "metadata": {},
   "outputs": [],
   "source": [
    "stats.wilcoxon(stat_test(Nordlys_queries_QALD2, Google_queries_QALD2, 10))"
   ]
  },
  {
   "cell_type": "code",
   "execution_count": null,
   "metadata": {},
   "outputs": [],
   "source": [
    "stats.wilcoxon(stat_test(Nordlys_queries_TREC, Google_queries_TREC, 10))"
   ]
  },
  {
   "cell_type": "code",
   "execution_count": null,
   "metadata": {},
   "outputs": [],
   "source": [
    "stats.wilcoxon(stat_test(manual_nordlys, manual_google, 10))"
   ]
  },
  {
   "cell_type": "code",
   "execution_count": null,
   "metadata": {},
   "outputs": [],
   "source": [
    "stats.wilcoxon(stat_test(manual_nordlys_INEX, manual_google_INEX, 10))"
   ]
  },
  {
   "cell_type": "code",
   "execution_count": null,
   "metadata": {},
   "outputs": [],
   "source": [
    "stats.wilcoxon(stat_test(manual_nordlys_QALD2, manual_google_QALD2, 5))"
   ]
  },
  {
   "cell_type": "code",
   "execution_count": null,
   "metadata": {},
   "outputs": [],
   "source": [
    "stats.wilcoxon(stat_test(manual_nordlys_TREC, manual_google_TREC, 5))"
   ]
  }
 ],
 "metadata": {
  "kernelspec": {
   "display_name": "Python 3",
   "language": "python",
   "name": "python3"
  },
  "language_info": {
   "codemirror_mode": {
    "name": "ipython",
    "version": 3
   },
   "file_extension": ".py",
   "mimetype": "text/x-python",
   "name": "python",
   "nbconvert_exporter": "python",
   "pygments_lexer": "ipython3",
   "version": "3.6.7"
  }
 },
 "nbformat": 4,
 "nbformat_minor": 2
}
