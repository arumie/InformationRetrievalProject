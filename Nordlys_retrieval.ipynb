{
 "cells": [
  {
   "cell_type": "markdown",
   "metadata": {},
   "source": [
    "# Nordlys RESTful API\n",
    "\n",
    "This code retrieves the documents from DBPedia using the Nordlys RESTful API."
   ]
  },
  {
   "cell_type": "markdown",
   "metadata": {},
   "source": [
    "#### Get the list of queries"
   ]
  },
  {
   "cell_type": "code",
   "execution_count": 73,
   "metadata": {},
   "outputs": [],
   "source": [
    "with open('query_list.txt', 'r') as f:\n",
    "    text = f.read()\n",
    "queries = text.split(\"\\n\")\n",
    "queries = [(query.split('\\t')[0], query.split('\\t')[1]) for query in queries]"
   ]
  },
  {
   "cell_type": "markdown",
   "metadata": {},
   "source": [
    "##### Get a dictionary with queries and their list of document relevances"
   ]
  },
  {
   "cell_type": "code",
   "execution_count": 74,
   "metadata": {},
   "outputs": [],
   "source": [
    "with open('query_relevance.txt', 'r') as f:\n",
    "    text = f.read()\n",
    "    \n",
    "text.split('\\n')[0].split('\\t')[0]\n",
    "\n",
    "query_dict = {}\n",
    "\n",
    "for query_doc in text.split('\\n'):\n",
    "    l = query_doc.split('\\t')    \n",
    "    if l[0] not in query_dict.keys():\n",
    "        query_dict[l[0]] = {l[2][9:-1]: l[-1]}\n",
    "    else:    \n",
    "        query_dict[l[0]][l[2][9:-1]] = l[-1]\n"
   ]
  },
  {
   "cell_type": "markdown",
   "metadata": {},
   "source": [
    "##### Get the resulting documents for each query and make a .txt file with the resulting documents and their relevances."
   ]
  },
  {
   "cell_type": "code",
   "execution_count": 72,
   "metadata": {},
   "outputs": [],
   "source": [
    "import requests\n",
    "import json\n",
    "import codecs\n",
    "\n",
    "nordlys_retrieval_dict = {}\n",
    "models = ['lm', 'bm25', 'prms', 'mlm']\n",
    "\n",
    "for model in models:\n",
    "    for query in queries:\n",
    "        request_url = 'http://api.nordlys.cc/er?q=' + query[1].replace(' ', '+') +'&1st_num_docs=20&model=' + model\n",
    "        r = requests.get(request_url)\n",
    "        r.json()\n",
    "        nordlys_retrieval_dict[query[0]] = []\n",
    "        for key in r.json()['results'].keys():\n",
    "            doc_title = r.json()['results'][key]['entity'][9:-1]\n",
    "            if doc_title in query_dict[query[0]].keys():\n",
    "                doc_rel = query_dict[query[0]][doc_title] \n",
    "            else:\n",
    "                doc_rel = 0\n",
    "            nordlys_retrieval_dict[query[0]].append([doc_title,  doc_rel])\n",
    "        nordlys_retrieval_dict\n",
    "        with codecs.open(\"nordlys_retrievals_\" + model + \".txt\", \"w\", \"utf-8\") as file:\n",
    "            file.write(str(nordlys_retrieval_dict))"
   ]
  }
 ],
 "metadata": {
  "kernelspec": {
   "display_name": "Python 3",
   "language": "python",
   "name": "python3"
  },
  "language_info": {
   "codemirror_mode": {
    "name": "ipython",
    "version": 3
   },
   "file_extension": ".py",
   "mimetype": "text/x-python",
   "name": "python",
   "nbconvert_exporter": "python",
   "pygments_lexer": "ipython3",
   "version": "3.6.6"
  }
 },
 "nbformat": 4,
 "nbformat_minor": 2
}
