{
 "cells": [
  {
   "cell_type": "markdown",
   "metadata": {},
   "source": [
    "# Nordlys RESTful API\n",
    "\n",
    "This code retrieves the documents from DBPedia using the Nordlys RESTful API."
   ]
  },
  {
   "cell_type": "markdown",
   "metadata": {},
   "source": [
    "#### Get the list of queries"
   ]
  },
  {
   "cell_type": "code",
   "execution_count": 1,
   "metadata": {
    "collapsed": true
   },
   "outputs": [],
   "source": [
    "with open('query_list.txt', 'r') as f:\n",
    "    text = f.read()\n",
    "queries = text.split(\"\\n\")\n",
    "queries = [(query.split('\\t')[0], query.split('\\t')[1]) for query in queries]"
   ]
  },
  {
   "cell_type": "markdown",
   "metadata": {},
   "source": [
    "##### Get a dictionary with queries and their list of document relevances"
   ]
  },
  {
   "cell_type": "code",
   "execution_count": 4,
   "metadata": {},
   "outputs": [],
   "source": [
    "with open('query_relevance.txt', 'r', encoding=\"utf8\") as f:\n",
    "    text = f.read()\n",
    "    \n",
    "text.split('\\n')[0].split('\\t')[0]\n",
    "\n",
    "query_dict = {}\n",
    "\n",
    "for query_doc in text.split('\\n'):\n",
    "    l = query_doc.split('\\t')    \n",
    "    if l[0] not in query_dict.keys():\n",
    "        query_dict[l[0]] = {l[2][9:-1]: l[-1]}\n",
    "    else:    \n",
    "        query_dict[l[0]][l[2][9:-1]] = l[-1]\n"
   ]
  },
  {
   "cell_type": "markdown",
   "metadata": {},
   "source": [
    "##### Get the resulting documents for each query and make a .txt file with the resulting documents and their relevances."
   ]
  },
  {
   "cell_type": "code",
   "execution_count": 109,
   "metadata": {},
   "outputs": [
    {
     "name": "stdout",
     "output_type": "stream",
     "text": [
      "{'INEX_LD-2012355': [['List_of_Luton_Town_F.C._records_and_statistics', '0'], ['Progression_of_British_football_transfer_fee_record', '1'], ['Wayne_Rooney', '2'], ['Kieron_Dyer', '1'], ['List_of_Gillingham_F.C._records_and_statistics', '0'], ['Transfer_(association_football)', '0'], ['Jack_Reynolds_(footballer,_born_1869)', '0'], ['Jackie_Milburn', '0'], [\"Forbes'_list_of_world's_highest-paid_athletes\", '1'], ['List_of_largest_sports_contracts', '1'], ['Leicester_and_District_Football_League', '0'], ['Richard_Sherman_(American_football)', 0], ['List_of_Plymouth_Argyle_F.C._records_and_statistics', '0'], ['List_of_Crystal_Palace_F.C._records_and_statistics', '0'], ['List_of_East_Stirlingshire_F.C._records_and_statistics', '0'], ['Ryan_Kalil', 0], ['Kidnapping_in_South_Africa', 0], ['Johnny_Walker_(footballer,_born_1973)', '0'], ['Mike_Stringfellow', 0], ['Parity_(sports)', 0]]}\n"
     ]
    }
   ],
   "source": [
    "## import requests\n",
    "import json\n",
    "import codecs\n",
    "\n",
    "nordlys_retrieval_dict = {}\n",
    "models = ['lm', 'bm25', 'prms', 'mlm']\n",
    "lm_smoothing = ['jm', 'dirichlet']\n",
    "\n",
    "# for smoothing_method in lm_smoothing:\n",
    "for query in queries[80:81]:\n",
    "    request_url = 'http://api.nordlys.cc/er?q=' + query[1].replace(' ', '+') +'&1st_num_docs=20&model=lm&smoothing_method=dirichlet'\n",
    "    r = requests.get(request_url)\n",
    "    r.json()\n",
    "    nordlys_retrieval_dict[query[0]] = []\n",
    "    for key in r.json()['results'].keys():\n",
    "        doc_title = r.json()['results'][key]['entity'][9:-1]\n",
    "        if  doc_title in query_dict[query[0]].keys():\n",
    "            doc_rel = query_dict[query[0]][doc_title] \n",
    "        else:\n",
    "            doc_rel = 0\n",
    "        nordlys_retrieval_dict[query[0]].append([doc_title,  doc_rel])\n",
    "    print(nordlys_retrieval_dict)\n",
    "        # nordlys_retrieval_dict[query[0]].append({'title': doc_title,  'rel': doc_rel})\n",
    "\n",
    "    nordlys_retrieval_dict\n",
    "#    with codecs.open(\"nordlys_retrievals_\" + smoothing_method + \".txt\", \"w\", \"utf-8\") as file:\n",
    "#        file.write(str(nordlys_retrieval_dict))"
   ]
  },
  {
   "cell_type": "code",
   "execution_count": 108,
   "metadata": {},
   "outputs": [
    {
     "data": {
      "text/plain": [
       "('INEX_LD-2012355', 'England football player highest paid')"
      ]
     },
     "execution_count": 108,
     "metadata": {},
     "output_type": "execute_result"
    }
   ],
   "source": [
    "queries[80]"
   ]
  },
  {
   "cell_type": "code",
   "execution_count": 90,
   "metadata": {},
   "outputs": [
    {
     "data": {
      "text/plain": [
       "<Response [500]>"
      ]
     },
     "execution_count": 90,
     "metadata": {},
     "output_type": "execute_result"
    }
   ],
   "source": [
    "request_url = 'http://api.nordlys.cc/er?q=' + queries[0][1].replace(' ', '+') +'&1st_num_docs=20&model=bm25'\n",
    "r = requests.get(request_url)\n",
    "r"
   ]
  }
 ],
 "metadata": {
  "kernelspec": {
   "display_name": "Python 3",
   "language": "python",
   "name": "python3"
  },
  "language_info": {
   "codemirror_mode": {
    "name": "ipython",
    "version": 3
   },
   "file_extension": ".py",
   "mimetype": "text/x-python",
   "name": "python",
   "nbconvert_exporter": "python",
   "pygments_lexer": "ipython3",
   "version": "3.6.2"
  }
 },
 "nbformat": 4,
 "nbformat_minor": 2
}
